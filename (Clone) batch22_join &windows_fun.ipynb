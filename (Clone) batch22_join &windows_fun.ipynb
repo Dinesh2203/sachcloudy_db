{
 "cells": [
  {
   "cell_type": "code",
   "execution_count": 0,
   "metadata": {
    "application/vnd.databricks.v1+cell": {
     "cellMetadata": {
      "byteLimit": 2048000,
      "rowLimit": 10000
     },
     "inputWidgets": {},
     "nuid": "87af7946-9bdc-4417-b0c5-299891341ec8",
     "showTitle": false,
     "tableResultSettingsMap": {},
     "title": ""
    }
   },
   "outputs": [],
   "source": [
    "path1=r'/Volumes/batch22_catlog/batch22_test_sch/batch22_volume/batch18_student.csv'\n",
    "path2=r'/Volumes/batch22_catlog/batch22_test_sch/batch22_volume/batch18_department.csv'\n",
    "\n",
    "df1 = spark.read.format(\"csv\").option(\"header\", \"true\").option('inferschematype', 'true').load(path1)\n",
    "df2 = spark.read.format(\"csv\").option(\"header\", \"true\").option('inferschematype', 'true').load(path2)\n",
    "display(df1)\n",
    "display(df2)"
   ]
  },
  {
   "cell_type": "code",
   "execution_count": 0,
   "metadata": {
    "application/vnd.databricks.v1+cell": {
     "cellMetadata": {
      "byteLimit": 2048000,
      "rowLimit": 10000
     },
     "inputWidgets": {},
     "nuid": "d12612ba-7836-489b-850c-7b0ff2f0b3c1",
     "showTitle": false,
     "tableResultSettingsMap": {},
     "title": ""
    }
   },
   "outputs": [],
   "source": [
    "#inner join...\n",
    "# take only similar element from both dataframe..\n",
    "inner_df =df1.join(df2, df1.dept_id == df2.id, 'inner')\n",
    "display(inner_df)"
   ]
  },
  {
   "cell_type": "code",
   "execution_count": 0,
   "metadata": {
    "application/vnd.databricks.v1+cell": {
     "cellMetadata": {
      "byteLimit": 2048000,
      "rowLimit": 10000
     },
     "inputWidgets": {},
     "nuid": "72ed8ded-415d-4842-b3e7-74df95d02359",
     "showTitle": false,
     "tableResultSettingsMap": {},
     "title": ""
    }
   },
   "outputs": [],
   "source": [
    "# Full join \n",
    "# take similar record from both df also take dissimilar record from both df\n",
    "full_df =df1.join(df2, df1.dept_id == df2.id, 'full')\n",
    "display(full_df)"
   ]
  },
  {
   "cell_type": "code",
   "execution_count": 0,
   "metadata": {
    "application/vnd.databricks.v1+cell": {
     "cellMetadata": {
      "byteLimit": 2048000,
      "rowLimit": 10000
     },
     "inputWidgets": {},
     "nuid": "d68b3478-88f5-492a-8472-96c5f1cf1c57",
     "showTitle": false,
     "tableResultSettingsMap": {},
     "title": ""
    }
   },
   "outputs": [],
   "source": [
    "# left join\n",
    "# take similar record from both df and only take disimilar record from left df\n",
    "left_df =df1.join(df2, df1.dept_id == df2.id, 'left')\n",
    "display(left_df)"
   ]
  },
  {
   "cell_type": "code",
   "execution_count": 0,
   "metadata": {
    "application/vnd.databricks.v1+cell": {
     "cellMetadata": {
      "byteLimit": 2048000,
      "rowLimit": 10000
     },
     "inputWidgets": {},
     "nuid": "b6864d79-c630-4efd-8420-aabc414e4a13",
     "showTitle": false,
     "tableResultSettingsMap": {},
     "title": ""
    }
   },
   "outputs": [],
   "source": [
    "# Right join\n",
    "# take similar record from both df and only take disimilar record from right df\n",
    "right_df =df1.join(df2, df1.dept_id == df2.id, 'right')\n",
    "display(right_df)"
   ]
  },
  {
   "cell_type": "code",
   "execution_count": 0,
   "metadata": {
    "application/vnd.databricks.v1+cell": {
     "cellMetadata": {
      "byteLimit": 2048000,
      "rowLimit": 10000
     },
     "inputWidgets": {},
     "nuid": "cec7b703-4128-404f-94fa-45e86add5420",
     "showTitle": false,
     "tableResultSettingsMap": {},
     "title": ""
    }
   },
   "outputs": [],
   "source": [
    "#left-anti\n",
    "# only findout disimilar record from left df\n",
    "left_anti_df =df1.join(df2, df1.dept_id == df2.id, 'left_anti')\n",
    "display(left_anti_df)"
   ]
  },
  {
   "cell_type": "code",
   "execution_count": 0,
   "metadata": {
    "application/vnd.databricks.v1+cell": {
     "cellMetadata": {
      "byteLimit": 2048000,
      "rowLimit": 10000
     },
     "inputWidgets": {},
     "nuid": "872034fe-bcb9-4588-a11e-2f27e9cd6eb2",
     "showTitle": false,
     "tableResultSettingsMap": {},
     "title": ""
    }
   },
   "outputs": [],
   "source": [
    "#left_semi\n",
    "left_semi_df =df1.join(df2, df1.dept_id == df2.id, 'left_semi')\n",
    "display(left_semi_df)"
   ]
  },
  {
   "cell_type": "code",
   "execution_count": 0,
   "metadata": {
    "application/vnd.databricks.v1+cell": {
     "cellMetadata": {
      "byteLimit": 2048000,
      "rowLimit": 10000
     },
     "inputWidgets": {},
     "nuid": "537f88ed-259c-4500-a57b-4dd519e086ac",
     "showTitle": false,
     "tableResultSettingsMap": {},
     "title": ""
    }
   },
   "outputs": [],
   "source": [
    "path=r'/Volumes/batch22_catlog/batch22_test_sch/batch22_volume/batch14_window.csv'\n",
    "df = spark.read.format(\"csv\").option(\"header\", \"true\").option('inferschematype', 'true').load(path)\n",
    "display(df)"
   ]
  },
  {
   "cell_type": "code",
   "execution_count": 0,
   "metadata": {
    "application/vnd.databricks.v1+cell": {
     "cellMetadata": {
      "byteLimit": 2048000,
      "rowLimit": 10000
     },
     "inputWidgets": {},
     "nuid": "76ca4b32-169f-4883-b7bf-a11225476ab4",
     "showTitle": false,
     "tableResultSettingsMap": {},
     "title": ""
    }
   },
   "outputs": [],
   "source": [
    "# windows function \n",
    "# row_num,rank,dense_rank\n",
    "\n",
    "from pyspark.sql.window import Window\n",
    "from pyspark.sql.functions import row_number,rank\n",
    "\n",
    "w = Window.partitionBy('depart').orderBy('salary')\n",
    "# df1.withColumn('row_num',row_number().over(w)).show()"
   ]
  },
  {
   "cell_type": "code",
   "execution_count": 0,
   "metadata": {
    "application/vnd.databricks.v1+cell": {
     "cellMetadata": {
      "byteLimit": 2048000,
      "rowLimit": 10000
     },
     "inputWidgets": {},
     "nuid": "6d7ee95b-5c6e-4b31-8c7d-bc8f1090c227",
     "showTitle": false,
     "tableResultSettingsMap": {},
     "title": ""
    }
   },
   "outputs": [],
   "source": [
    "# row_number\n",
    "df=df.withColumn('row_num',row_number().over(w))\n",
    "display(df)"
   ]
  },
  {
   "cell_type": "code",
   "execution_count": 0,
   "metadata": {
    "application/vnd.databricks.v1+cell": {
     "cellMetadata": {
      "byteLimit": 2048000,
      "rowLimit": 10000
     },
     "inputWidgets": {},
     "nuid": "4ca6bc73-a3bb-47ea-9fed-5cf43b8ae4bf",
     "showTitle": false,
     "tableResultSettingsMap": {},
     "title": ""
    }
   },
   "outputs": [],
   "source": [
    "# rank\n",
    "df=df.withColumn('rank',rank().over(w))\n",
    "display(df)"
   ]
  },
  {
   "cell_type": "code",
   "execution_count": 0,
   "metadata": {
    "application/vnd.databricks.v1+cell": {
     "cellMetadata": {
      "byteLimit": 2048000,
      "rowLimit": 10000
     },
     "inputWidgets": {},
     "nuid": "3db2c91a-b64a-4870-a63f-2f156b57d303",
     "showTitle": false,
     "tableResultSettingsMap": {},
     "title": ""
    }
   },
   "outputs": [],
   "source": [
    "#dense_rank\n",
    "from pyspark.sql.functions import dense_rank\n",
    "df=df.withColumn('dense_rank',dense_rank().over(w))\n",
    "display(df)"
   ]
  },
  {
   "cell_type": "code",
   "execution_count": 0,
   "metadata": {
    "application/vnd.databricks.v1+cell": {
     "cellMetadata": {
      "byteLimit": 2048000,
      "rowLimit": 10000
     },
     "inputWidgets": {},
     "nuid": "5c10fc63-f523-4a44-bacf-0e63a8ad2d24",
     "showTitle": false,
     "tableResultSettingsMap": {},
     "title": ""
    }
   },
   "outputs": [],
   "source": [
    "# findout second highest salary from admin department\n",
    "df1=df.filter(df.dense_rank==1).filter(df.depart=='Admin').filter(df.row_num==1)\n",
    "display(df1)"
   ]
  },
  {
   "cell_type": "code",
   "execution_count": 0,
   "metadata": {
    "application/vnd.databricks.v1+cell": {
     "cellMetadata": {},
     "inputWidgets": {},
     "nuid": "b8f6d560-5b14-4352-90b7-1671f77915dd",
     "showTitle": false,
     "tableResultSettingsMap": {},
     "title": ""
    }
   },
   "outputs": [],
   "source": []
  }
 ],
 "metadata": {
  "application/vnd.databricks.v1+notebook": {
   "computePreferences": null,
   "dashboards": [],
   "environmentMetadata": {
    "base_environment": "",
    "environment_version": "2"
   },
   "inputWidgetPreferences": null,
   "language": "python",
   "notebookMetadata": {
    "pythonIndentUnit": 4
   },
   "notebookName": "(Clone) batch22_join &windows_fun",
   "widgets": {}
  },
  "language_info": {
   "name": "python"
  }
 },
 "nbformat": 4,
 "nbformat_minor": 0
}
