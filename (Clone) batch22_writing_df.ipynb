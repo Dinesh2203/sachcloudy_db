{
 "cells": [
  {
   "cell_type": "code",
   "execution_count": 0,
   "metadata": {
    "application/vnd.databricks.v1+cell": {
     "cellMetadata": {
      "byteLimit": 2048000,
      "rowLimit": 10000
     },
     "inputWidgets": {},
     "nuid": "51540468-b607-464c-9c44-893c039af718",
     "showTitle": false,
     "tableResultSettingsMap": {},
     "title": ""
    }
   },
   "outputs": [],
   "source": [
    "path=r'/Volumes/batch22_catlog/batch22_test_sch/batch22_volume/people-500000.csv'\n",
    "df=spark.read.format('csv').option('header','true').option('inferSchema','true').load(path)\n",
    "df.display()"
   ]
  },
  {
   "cell_type": "code",
   "execution_count": 0,
   "metadata": {
    "application/vnd.databricks.v1+cell": {
     "cellMetadata": {
      "byteLimit": 2048000,
      "rowLimit": 10000
     },
     "inputWidgets": {},
     "nuid": "95a8b341-dd5d-4b1c-98bd-3ad8c666aa8c",
     "showTitle": false,
     "tableResultSettingsMap": {},
     "title": ""
    }
   },
   "outputs": [],
   "source": [
    "from pyspark.sql.functions import *\n",
    "df1=df.withColumn('full_name',concat_ws(' ',col('First Name'),col('Last Name')))\n",
    "df1.display()\n"
   ]
  },
  {
   "cell_type": "code",
   "execution_count": 0,
   "metadata": {
    "application/vnd.databricks.v1+cell": {
     "cellMetadata": {
      "byteLimit": 2048000,
      "rowLimit": 10000
     },
     "inputWidgets": {},
     "nuid": "e9245895-20ed-4989-9841-cc8fe8f8a831",
     "showTitle": false,
     "tableResultSettingsMap": {},
     "title": ""
    }
   },
   "outputs": [],
   "source": [
    "# write file as csv with same no of partition\n",
    "df1.write.csv('/Volumes/batch22_catlog/batch22_test_sch/batch22_volume/batch22_csv')"
   ]
  },
  {
   "cell_type": "code",
   "execution_count": 0,
   "metadata": {
    "application/vnd.databricks.v1+cell": {
     "cellMetadata": {
      "byteLimit": 2048000,
      "rowLimit": 10000
     },
     "inputWidgets": {},
     "nuid": "f9c75336-2fb6-4b8d-96a8-f8f91daa1285",
     "showTitle": false,
     "tableResultSettingsMap": {},
     "title": ""
    }
   },
   "outputs": [],
   "source": [
    "# write df as csv file in one partition\n",
    "#coalesce() - it is method which is used to decrese number of partitions\n",
    "#overwrite - it is used to overwrite the existing file\n",
    "df1.coalesce(1).write.mode('overwrite').csv('/Volumes/batch22_catlog/batch22_test_sch/batch22_volume/batch22_csv')"
   ]
  },
  {
   "cell_type": "code",
   "execution_count": 0,
   "metadata": {
    "application/vnd.databricks.v1+cell": {
     "cellMetadata": {
      "byteLimit": 2048000,
      "rowLimit": 10000
     },
     "inputWidgets": {},
     "nuid": "46a3952e-a0cd-476f-af6f-242ee2cc0976",
     "showTitle": false,
     "tableResultSettingsMap": {},
     "title": ""
    }
   },
   "outputs": [],
   "source": [
    "# write df as parquet file \n",
    "df1.coalesce(1).write.mode('overwrite').parquet('/Volumes/batch22_catlog/batch22_test_sch/batch22_volume/batch22_parquet')"
   ]
  },
  {
   "cell_type": "code",
   "execution_count": 0,
   "metadata": {
    "application/vnd.databricks.v1+cell": {
     "cellMetadata": {
      "byteLimit": 2048000,
      "rowLimit": 10000
     },
     "inputWidgets": {},
     "nuid": "a0c22a0d-47fe-496a-902d-a4c6d866969a",
     "showTitle": false,
     "tableResultSettingsMap": {},
     "title": ""
    }
   },
   "outputs": [],
   "source": [
    "#write dataframe on the basis of column partition\n",
    "df1.coalesce(1).write.partitionBy('Sex').mode('overwrite').parquet('/Volumes/batch22_catlog/batch22_test_sch/batch22_volume/batch22_parquet')"
   ]
  },
  {
   "cell_type": "code",
   "execution_count": 0,
   "metadata": {
    "application/vnd.databricks.v1+cell": {
     "cellMetadata": {
      "byteLimit": 2048000,
      "rowLimit": 10000
     },
     "inputWidgets": {},
     "nuid": "637ae8cc-b729-4de4-b748-2d80bfa2c1a6",
     "showTitle": false,
     "tableResultSettingsMap": {},
     "title": ""
    }
   },
   "outputs": [],
   "source": [
    "df2=df1.withColumn(\"birth_year\",year(col(\"Date of birth\")))\\\n",
    "        .withColumn(\"birth_month\",month(col(\"Date of birth\")))\\\n",
    "        .withColumn (\"birth_day\",dayofmonth(col(\"Date of birth\")))\n",
    "df2.display()                                            \n"
   ]
  },
  {
   "cell_type": "code",
   "execution_count": 0,
   "metadata": {
    "application/vnd.databricks.v1+cell": {
     "cellMetadata": {
      "byteLimit": 2048000,
      "rowLimit": 10000
     },
     "inputWidgets": {},
     "nuid": "e4e6b4d6-65ea-422f-84eb-62a470567ded",
     "showTitle": false,
     "tableResultSettingsMap": {},
     "title": ""
    }
   },
   "outputs": [],
   "source": [
    "#write dataframe on the basis of column partition\n",
    "df2.coalesce(1).write.partitionBy('birth_year','birth_month','birth_day').mode('overwrite').parquet('/Volumes/batch22_catlog/batch22_test_sch/batch22_volume/batch22_parquet')"
   ]
  },
  {
   "cell_type": "code",
   "execution_count": 0,
   "metadata": {
    "application/vnd.databricks.v1+cell": {
     "cellMetadata": {
      "byteLimit": 2048000,
      "rowLimit": 10000
     },
     "inputWidgets": {},
     "nuid": "c41a14a9-a791-4128-98ef-e76819017cd0",
     "showTitle": false,
     "tableResultSettingsMap": {},
     "title": ""
    }
   },
   "outputs": [],
   "source": [
    "path2=r'/Volumes/batch22_catlog/batch22_test_sch/batch22_volume/batch17_emp.csv'\n",
    "df3=spark.read.format('csv').option('header','true').option('inferSchema','true').load(path2)\n",
    "df3.display()"
   ]
  },
  {
   "cell_type": "code",
   "execution_count": 0,
   "metadata": {
    "application/vnd.databricks.v1+cell": {
     "cellMetadata": {
      "byteLimit": 2048000,
      "rowLimit": 10000
     },
     "inputWidgets": {},
     "nuid": "47dc8858-e429-4144-8e00-45b0e16d50e7",
     "showTitle": false,
     "tableResultSettingsMap": {},
     "title": ""
    }
   },
   "outputs": [],
   "source": [
    "df4=df3.withColumn('updated_age',col('age')+5)\n",
    "df4.display()"
   ]
  },
  {
   "cell_type": "code",
   "execution_count": 0,
   "metadata": {
    "application/vnd.databricks.v1+cell": {
     "cellMetadata": {
      "byteLimit": 2048000,
      "rowLimit": 10000
     },
     "inputWidgets": {},
     "nuid": "f800fe82-000a-480a-b50c-6534f40193b2",
     "showTitle": false,
     "tableResultSettingsMap": {},
     "title": ""
    }
   },
   "outputs": [],
   "source": [
    "#write df as json file\n",
    "file_path =r'/Volumes/batch22_catlog/batch22_test_sch/batch22_volume/batch22_json'\n",
    "df4.coalesce(1).write.mode('overwrite').json(file_path)"
   ]
  }
 ],
 "metadata": {
  "application/vnd.databricks.v1+notebook": {
   "computePreferences": null,
   "dashboards": [],
   "environmentMetadata": {
    "base_environment": "",
    "environment_version": "2"
   },
   "inputWidgetPreferences": null,
   "language": "python",
   "notebookMetadata": {
    "pythonIndentUnit": 4
   },
   "notebookName": "(Clone) batch22_writing_df",
   "widgets": {}
  },
  "language_info": {
   "name": "python"
  }
 },
 "nbformat": 4,
 "nbformat_minor": 0
}
